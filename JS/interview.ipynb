{
 "cells": [
  {
   "cell_type": "code",
   "execution_count": null,
   "metadata": {},
   "outputs": [],
   "source": [
    "def post_infos(start, length):\n",
    "    for i in range(length):\n",
    "        \n",
    "        posts = {\n",
    "        \"id\": id,\n",
    "        \"desc\": desc,\n",
    "        \"img\": img,\n",
    "        \"created_at\": created_at\n",
    "        }\n",
    "\n"
   ]
  },
  {
   "cell_type": "code",
   "execution_count": null,
   "metadata": {},
   "outputs": [],
   "source": [
    "def merge_posts(list_of_posts):\n",
    "    \n",
    "    list_of_posts.reverse()\n",
    "    \n",
    "    def quick_sort(unsorted_posts):\n",
    "        if len(unsorted_posts) < 1:\n",
    "            return []\n",
    "        pivot = unsorted_posts.pop()\n",
    "        larger_data = []\n",
    "        smaller_data = []\n",
    "        \n",
    "        for data in unsorted_posts:\n",
    "            if data[\"created_at\"] == pivot[\"created_at\"]:\n",
    "                if data[\"id\"] > pivot[\"id\"]:\n",
    "                    larger_data.append(data)\n",
    "                \n",
    "                else:\n",
    "                    smaller_data.append(data)\n",
    "            elif data[\"created_at\"] > pivot[\"created_at\"]:\n",
    "                larger_data.append(data)\n",
    "            else:\n",
    "                smaller_data.append(data)\n",
    "        return quick_sort(larger_data) + [pivot] + quick_sort(smaller_data)\n",
    "    "
   ]
  },
  {
   "cell_type": "code",
   "execution_count": null,
   "metadata": {},
   "outputs": [],
   "source": []
  }
 ],
 "metadata": {
  "language_info": {
   "name": "python"
  },
  "orig_nbformat": 4
 },
 "nbformat": 4,
 "nbformat_minor": 2
}
